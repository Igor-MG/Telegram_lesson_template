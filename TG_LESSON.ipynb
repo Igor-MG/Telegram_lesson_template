# Документация к JSON-шаблону урока (прочтите описание и инструкцию)

<details>
<summary>Описание структуры JSON</summary>

- **`title`**  
  Заголовок урока. Указывается для каждого языка.

- **`topic`**  
  Тема урока. Обязательное поле.  
  Возможные значения:  
  - `Holiverse`  
  - `Crypto`  
  - `AI`  

- **`points`**  
  Количество очков, начисляемых за прохождение урока. Максимум 10.

- **`description`**  
  Краткое описание урока. Указывается для каждого языка.  
  Максимальная длина: **1024 символа**, включая пробелы и переносы строк.

- **`telegram_file_id`**  
  ID заставки урока в Telegram.  
  Для получения ID изображение предварительно загружается в Telegram через административную группу.

- **`content`**  
  Содержание урока. Указывается для каждого языка. Контент разбивается на отдельные сообщения. К сообщению может быть прикреплено изображение.

  Ограничения:
  - Максимальная длина сообщения **без картинки**: **4096 символов**.  
  - Максимальная длина сообщения **с картинкой**: **1024 символа**.  

---

### Форматирование текста сообщения

- `*Текст*` — жирный текст.  
- `_Текст_` — курсив.

---

### Дополнительные возможности

- Списки можно создавать с использованием символов, таких как `•`.
- Если нужно использовать символ `*`, его необходимо экранировать: `\*`.
- Ссылки оформляются следующим образом:  
  `[текст который будет виден](https://dex.holiverse.ai/?symbol=HCDAI)`.

---

### Поле `questions`

Список вопросов и вариантов ответов.  

- **`question`**: Текст вопроса для каждого языка. Может содержать картинку. В этом случае картинка должна быть предварительно загружена в Telegram.
- **`options`**: Варианты ответов. Указывается для каждого языка.  
- **`correct_answer`**: Правильный ответ. Указывается для каждого языка.
</details>

<details>
<summary>Инструкция</summary>

   1. Запустите все ячейки.

   2. Заполните необходимые поля в форме под последней ячейкой в соответствии с документом **Описание структуры JSON**

   3. Нажмите **`Сохранить как JSON`**

</details>
!pip install ipywidgets
!jupyter nbextension enable --py widgetsnbextension
!jupyter nbextension enable --py --sys-prefix widgetsnbextension
!jupyter serverextension enable --py --sys-prefix widgetsnbextension

from google.colab import output
output.enable_custom_widget_manager()

from IPython.display import display, JSON
import ipywidgets as widgets
import json
import os

# Widgets for input
title_ru = widgets.Text(description="Title (RU):", placeholder="Введите заголовок на русском")
title_en = widgets.Text(description="Title (EN):", placeholder="Enter title in English")

topic = widgets.Dropdown(
    options=["Holiverse", "Crypto", "AI"],
    description="Topic:"
)

points = widgets.BoundedIntText(description="Points:", value=10, min=1, max=10)

description_ru = widgets.Textarea(description="Desc (RU):", placeholder="Введите описание на русском")
description_en = widgets.Textarea(description="Desc (EN):", placeholder="Enter description in English")

telegram_file_id = widgets.Text(description="File ID:", placeholder="Введите ID изображения")

# Dynamic content management
content_ru_box = widgets.VBox()
content_en_box = widgets.VBox()

def add_message_callback(content_box, lang):
    message_text = widgets.Textarea(description=f"Text ({lang}):", placeholder="Введите текст сообщения")
    image_id = widgets.Text(description=f"Image ID ({lang}):", placeholder="Введите ID изображения (опционально)")
    message_widget = widgets.VBox([message_text, image_id])
    content_box.children = content_box.children + (message_widget,)

add_message_btn_ru = widgets.Button(description="Add Message (RU)")
add_message_btn_en = widgets.Button(description="Add Message (EN)")

add_message_btn_ru.on_click(lambda _: add_message_callback(content_ru_box, "RU"))
add_message_btn_en.on_click(lambda _: add_message_callback(content_en_box, "EN"))

# Questions management
questions_box = widgets.VBox()

def add_question_callback(_):
    question_ru = widgets.Text(description="Q (RU):", placeholder="Введите вопрос на русском")
    question_en = widgets.Text(description="Q (EN):", placeholder="Enter question in English")

    image_id = widgets.Text(description="Image ID:", placeholder="Введите ID изображения (опционально)")

    options_ru = widgets.Text(description="Options (RU):", placeholder="Введите варианты ответа через запятую")
    options_en = widgets.Text(description="Options (EN):", placeholder="Enter options separated by commas")

    correct_ru = widgets.Text(description="Correct (RU):", placeholder="Введите правильный ответ на русском")
    correct_en = widgets.Text(description="Correct (EN):", placeholder="Enter the correct answer in English")

    question_widget = widgets.VBox([question_ru, question_en, image_id, options_ru, options_en, correct_ru, correct_en])
    questions_box.children = questions_box.children + (question_widget,)

add_question_btn = widgets.Button(description="Add Question")
add_question_btn.on_click(add_question_callback)

# Button to generate JSON
output_display = widgets.Output()

def generate_json_callback(_):
    # Create JSON data
    def format_content(content_box):
        formatted = []
        for item in content_box.children:
            text = item.children[0].value
            image_id = item.children[1].value.strip()
            if image_id:
                formatted.append([text, image_id])
            else:
                formatted.append(text)
        return formatted

    def format_questions():
        formatted = []
        for q in questions_box.children:
            question_data = {
                "question": {
                    "ru": q.children[0].value,
                    "en": q.children[1].value
                },
                "options": {
                    "ru": [opt.strip() for opt in q.children[3].value.split(",") if opt.strip()],
                    "en": [opt.strip() for opt in q.children[4].value.split(",") if opt.strip()],
                },
                "correct_answer": {
                    "ru": q.children[5].value,
                    "en": q.children[6].value
                }
            }
            image_id = q.children[2].value.strip()
            if image_id:
                question_data["telegram_file_id"] = image_id
            formatted.append(question_data)
        return formatted

    lesson_data = {
        "title": {
            "ru": title_ru.value,
            "en": title_en.value
        },
        "topic": topic.value,
        "points": points.value,
        "description": {
            "ru": description_ru.value,
            "en": description_en.value
        },
        "telegram_file_id": telegram_file_id.value,
        "content": {
            "ru": format_content(content_ru_box),
            "en": format_content(content_en_box)
        },
        "questions": format_questions()
    }

    # Save JSON to a downloadable file
    filename = "lesson_data.json"
    with open(filename, "w", encoding="utf-8") as f:
        json.dump(lesson_data, f, ensure_ascii=False, indent=2)

    # Display JSON in the notebook and a download link
    with output_display:
        output_display.clear_output()
        display(JSON(lesson_data))
        print("Скачайте JSON-файл ниже:")
        from google.colab import files
        files.download(filename)

generate_btn = widgets.Button(description="Generate JSON")
generate_btn.on_click(generate_json_callback)

# Display widgets
display(
    widgets.VBox([
        title_ru, title_en, topic, points, description_ru, description_en, telegram_file_id,
        widgets.Label("Content (RU):"), content_ru_box, add_message_btn_ru,
        widgets.Label("Content (EN):"), content_en_box, add_message_btn_en,
        widgets.Label("Questions:"), questions_box, add_question_btn, generate_btn,
        output_display
    ])
)
